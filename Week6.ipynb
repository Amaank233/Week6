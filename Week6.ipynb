{
  "nbformat": 4,
  "nbformat_minor": 0,
  "metadata": {
    "colab": {
      "provenance": []
    },
    "kernelspec": {
      "name": "python3",
      "display_name": "Python 3"
    },
    "language_info": {
      "name": "python"
    }
  },
  "cells": [
    {
      "cell_type": "code",
      "execution_count": null,
      "metadata": {
        "colab": {
          "base_uri": "https://localhost:8080/",
          "height": 1000
        },
        "id": "OuflOsWV4-5t",
        "outputId": "acb3c356-cbfd-4363-e66b-27b51ef3ca28"
      },
      "outputs": [
        {
          "output_type": "stream",
          "name": "stdout",
          "text": [
            "\u001b[33mWARNING: Ignoring invalid distribution -andas (/usr/local/lib/python3.10/dist-packages)\u001b[0m\u001b[33m\n",
            "\u001b[0mCollecting pandas==1.3.4\n",
            "  Using cached pandas-1.3.4-cp310-cp310-manylinux_2_17_x86_64.manylinux2014_x86_64.whl (11.5 MB)\n",
            "Requirement already satisfied: python-dateutil>=2.7.3 in /usr/local/lib/python3.10/dist-packages (from pandas==1.3.4) (2.8.2)\n",
            "Requirement already satisfied: pytz>=2017.3 in /usr/local/lib/python3.10/dist-packages (from pandas==1.3.4) (2023.4)\n",
            "Requirement already satisfied: numpy>=1.21.0 in /usr/local/lib/python3.10/dist-packages (from pandas==1.3.4) (1.25.2)\n",
            "Requirement already satisfied: six>=1.5 in /usr/local/lib/python3.10/dist-packages (from python-dateutil>=2.7.3->pandas==1.3.4) (1.16.0)\n",
            "\u001b[33mWARNING: Ignoring invalid distribution -andas (/usr/local/lib/python3.10/dist-packages)\u001b[0m\u001b[33m\n",
            "\u001b[0mInstalling collected packages: pandas\n",
            "  Attempting uninstall: pandas\n",
            "    Found existing installation: pandas 2.2.2\n",
            "    Uninstalling pandas-2.2.2:\n",
            "      Successfully uninstalled pandas-2.2.2\n",
            "\u001b[31mERROR: pip's dependency resolver does not currently take into account all the packages that are installed. This behaviour is the source of the following dependency conflicts.\n",
            "bigframes 1.8.0 requires pandas>=1.5.0, but you have pandas 1.3.4 which is incompatible.\n",
            "cudf-cu12 24.4.1 requires pandas<2.2.2dev0,>=2.0, but you have pandas 1.3.4 which is incompatible.\n",
            "google-colab 1.0.0 requires pandas==2.0.3, but you have pandas 1.3.4 which is incompatible.\n",
            "mizani 0.9.3 requires pandas>=1.3.5, but you have pandas 1.3.4 which is incompatible.\n",
            "modin 0.30.0 requires pandas<2.3,>=2.2, but you have pandas 1.3.4 which is incompatible.\n",
            "plotnine 0.12.4 requires pandas>=1.5.0, but you have pandas 1.3.4 which is incompatible.\n",
            "statsmodels 0.14.2 requires pandas!=2.1.0,>=1.4, but you have pandas 1.3.4 which is incompatible.\n",
            "xarray 2023.7.0 requires pandas>=1.4, but you have pandas 1.3.4 which is incompatible.\u001b[0m\u001b[31m\n",
            "\u001b[0mSuccessfully installed pandas-1.3.4\n"
          ]
        },
        {
          "output_type": "display_data",
          "data": {
            "application/vnd.colab-display-data+json": {
              "pip_warning": {
                "packages": [
                  "pandas"
                ]
              },
              "id": "4894076e6a8b476ebcb6f7e4a2dc300b"
            }
          },
          "metadata": {}
        },
        {
          "output_type": "stream",
          "name": "stdout",
          "text": [
            "\u001b[33mWARNING: Ignoring invalid distribution -andas (/usr/local/lib/python3.10/dist-packages)\u001b[0m\u001b[33m\n",
            "\u001b[0mRequirement already satisfied: modin[ray] in /usr/local/lib/python3.10/dist-packages (0.30.0)\n",
            "Collecting pandas<2.3,>=2.2 (from modin[ray])\n",
            "  Using cached pandas-2.2.2-cp310-cp310-manylinux_2_17_x86_64.manylinux2014_x86_64.whl (13.0 MB)\n",
            "Requirement already satisfied: packaging>=21.0 in /usr/local/lib/python3.10/dist-packages (from modin[ray]) (24.0)\n",
            "Requirement already satisfied: numpy>=1.22.4 in /usr/local/lib/python3.10/dist-packages (from modin[ray]) (1.25.2)\n",
            "Requirement already satisfied: fsspec>=2022.11.0 in /usr/local/lib/python3.10/dist-packages (from modin[ray]) (2023.6.0)\n",
            "Requirement already satisfied: psutil>=5.8.0 in /usr/local/lib/python3.10/dist-packages (from modin[ray]) (5.9.5)\n",
            "Requirement already satisfied: ray!=2.5.0,>=2.1.0 in /usr/local/lib/python3.10/dist-packages (from modin[ray]) (2.24.0)\n",
            "Requirement already satisfied: pyarrow>=10.0.1 in /usr/local/lib/python3.10/dist-packages (from modin[ray]) (14.0.2)\n",
            "Requirement already satisfied: python-dateutil>=2.8.2 in /usr/local/lib/python3.10/dist-packages (from pandas<2.3,>=2.2->modin[ray]) (2.8.2)\n",
            "Requirement already satisfied: pytz>=2020.1 in /usr/local/lib/python3.10/dist-packages (from pandas<2.3,>=2.2->modin[ray]) (2023.4)\n",
            "Requirement already satisfied: tzdata>=2022.7 in /usr/local/lib/python3.10/dist-packages (from pandas<2.3,>=2.2->modin[ray]) (2024.1)\n",
            "Requirement already satisfied: click>=7.0 in /usr/local/lib/python3.10/dist-packages (from ray!=2.5.0,>=2.1.0->modin[ray]) (8.1.7)\n",
            "Requirement already satisfied: filelock in /usr/local/lib/python3.10/dist-packages (from ray!=2.5.0,>=2.1.0->modin[ray]) (3.14.0)\n",
            "Requirement already satisfied: jsonschema in /usr/local/lib/python3.10/dist-packages (from ray!=2.5.0,>=2.1.0->modin[ray]) (4.19.2)\n",
            "Requirement already satisfied: msgpack<2.0.0,>=1.0.0 in /usr/local/lib/python3.10/dist-packages (from ray!=2.5.0,>=2.1.0->modin[ray]) (1.0.8)\n",
            "Requirement already satisfied: protobuf!=3.19.5,>=3.15.3 in /usr/local/lib/python3.10/dist-packages (from ray!=2.5.0,>=2.1.0->modin[ray]) (3.20.3)\n",
            "Requirement already satisfied: pyyaml in /usr/local/lib/python3.10/dist-packages (from ray!=2.5.0,>=2.1.0->modin[ray]) (6.0.1)\n",
            "Requirement already satisfied: aiosignal in /usr/local/lib/python3.10/dist-packages (from ray!=2.5.0,>=2.1.0->modin[ray]) (1.3.1)\n",
            "Requirement already satisfied: frozenlist in /usr/local/lib/python3.10/dist-packages (from ray!=2.5.0,>=2.1.0->modin[ray]) (1.4.1)\n",
            "Requirement already satisfied: requests in /usr/local/lib/python3.10/dist-packages (from ray!=2.5.0,>=2.1.0->modin[ray]) (2.31.0)\n",
            "Requirement already satisfied: six>=1.5 in /usr/local/lib/python3.10/dist-packages (from python-dateutil>=2.8.2->pandas<2.3,>=2.2->modin[ray]) (1.16.0)\n",
            "Requirement already satisfied: attrs>=22.2.0 in /usr/local/lib/python3.10/dist-packages (from jsonschema->ray!=2.5.0,>=2.1.0->modin[ray]) (23.2.0)\n",
            "Requirement already satisfied: jsonschema-specifications>=2023.03.6 in /usr/local/lib/python3.10/dist-packages (from jsonschema->ray!=2.5.0,>=2.1.0->modin[ray]) (2023.12.1)\n",
            "Requirement already satisfied: referencing>=0.28.4 in /usr/local/lib/python3.10/dist-packages (from jsonschema->ray!=2.5.0,>=2.1.0->modin[ray]) (0.35.1)\n",
            "Requirement already satisfied: rpds-py>=0.7.1 in /usr/local/lib/python3.10/dist-packages (from jsonschema->ray!=2.5.0,>=2.1.0->modin[ray]) (0.18.1)\n",
            "Requirement already satisfied: charset-normalizer<4,>=2 in /usr/local/lib/python3.10/dist-packages (from requests->ray!=2.5.0,>=2.1.0->modin[ray]) (3.3.2)\n",
            "Requirement already satisfied: idna<4,>=2.5 in /usr/local/lib/python3.10/dist-packages (from requests->ray!=2.5.0,>=2.1.0->modin[ray]) (3.7)\n",
            "Requirement already satisfied: urllib3<3,>=1.21.1 in /usr/local/lib/python3.10/dist-packages (from requests->ray!=2.5.0,>=2.1.0->modin[ray]) (2.0.7)\n",
            "Requirement already satisfied: certifi>=2017.4.17 in /usr/local/lib/python3.10/dist-packages (from requests->ray!=2.5.0,>=2.1.0->modin[ray]) (2024.6.2)\n",
            "\u001b[31mERROR: Operation cancelled by user\u001b[0m\u001b[31m\n",
            "\u001b[0m"
          ]
        }
      ],
      "source": [
        "#Amaan Khan\n",
        "#Week6 Assignment\n",
        "#2024-06-08\n",
        "\n",
        "!pip install pandas==1.3.4\n",
        "!pip install modin[ray]\n",
        "\n",
        "import pandas as pd\n",
        "import numpy as np\n",
        "import yaml\n",
        "import os\n",
        "import time\n",
        "import dask.dataframe as dd\n",
        "import modin.pandas as mp\n",
        "import ray\n",
        "\n",
        "\n",
        "num_rows = 7000000000\n",
        "\n",
        "\n",
        "df = pd.DataFrame(np.random.randint(0, 100, size=(num_rows, 4)), columns=list('ABCD'))\n",
        "\n",
        "\n",
        "df.to_csv('large_file.csv', index=False)\n",
        "\n",
        "\n",
        "start_time = time.time()\n",
        "df = pd.read_csv('large_file.csv')\n",
        "print(f'Time taken to read the file using pandas: {time.time() - start_time} seconds')\n",
        "\n",
        "\n",
        "start_time = time.time()\n",
        "df = dd.read_csv('large_file.csv')\n",
        "print(f'Time taken to read the file using Dask: {time.time() - start_time} seconds')\n",
        "\n",
        "\n",
        "ray.init()\n",
        "start_time = time.time()\n",
        "df = mp.read_csv('large_file.csv')\n",
        "print(f'Time taken to read the file using Modin and Ray: {time.time() - start_time} seconds')\n",
        "\n",
        "\n",
        "df.columns = df.columns.str.replace('[#,@,&]', '')\n",
        "\n",
        "\n",
        "data = {'separator': ',', 'columns': list(df.columns)}\n",
        "\n",
        "\n",
        "with open('data.yaml', 'w') as file:\n",
        "    yaml.dump(data, file)\n",
        "\n",
        "with open('data.yaml', 'r') as file:\n",
        "    data = yaml.load(file, Loader=yaml.FullLoader)\n",
        "\n",
        "assert (data['columns'] == list(df.columns)), \"Columns do not match!\"\n",
        "\n",
        "df.to_csv('data.gz', sep='|', compression='gzip', index=False)\n",
        "\n",
        "print(f'Total number of rows: {len(df)}')\n",
        "print(f'Total number of columns: {len(df.columns)}')\n",
        "print(f'File size: {os.path.getsize(\"data.gz\")} bytes')\n",
        "\n",
        "\n",
        "\n"
      ]
    }
  ]
}