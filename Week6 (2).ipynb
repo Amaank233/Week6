{
  "nbformat": 4,
  "nbformat_minor": 0,
  "metadata": {
    "colab": {
      "provenance": []
    },
    "kernelspec": {
      "name": "python3",
      "display_name": "Python 3"
    },
    "language_info": {
      "name": "python"
    }
  },
  "cells": [
    {
      "cell_type": "code",
      "execution_count": null,
      "metadata": {
        "id": "OuflOsWV4-5t"
      },
      "outputs": [],
      "source": [
        "#Amaan Khan\n",
        "#Week6 Assignment\n",
        "#2024-06-08\n",
        "\n",
        "!pip install pandas==1.3.4\n",
        "!pip install modin[ray]\n",
        "\n",
        "import pandas as pd\n",
        "import numpy as np\n",
        "import yaml\n",
        "import os\n",
        "import time\n",
        "import dask.dataframe as dd\n",
        "import modin.pandas as mp\n",
        "import ray\n",
        "\n",
        "\n",
        "num_rows = 7000000000\n",
        "\n",
        "\n",
        "df = pd.DataFrame(np.random.randint(0, 100, size=(num_rows, 4)), columns=list('ABCD'))\n",
        "\n",
        "\n",
        "df.to_csv('large_file.csv', index=False)\n",
        "\n",
        "\n",
        "start_time = time.time()\n",
        "df = pd.read_csv('large_file.csv')\n",
        "print(f'Time taken to read the file using pandas: {time.time() - start_time} seconds')\n",
        "\n",
        "\n",
        "start_time = time.time()\n",
        "df = dd.read_csv('large_file.csv')\n",
        "print(f'Time taken to read the file using Dask: {time.time() - start_time} seconds')\n",
        "\n",
        "\n",
        "ray.init()\n",
        "start_time = time.time()\n",
        "df = mp.read_csv('large_file.csv')\n",
        "print(f'Time taken to read the file using Modin and Ray: {time.time() - start_time} seconds')\n",
        "\n",
        "\n",
        "df.columns = df.columns.str.replace('[#,@,&]', '')\n",
        "\n",
        "\n",
        "data = {'separator': ',', 'columns': list(df.columns)}\n",
        "\n",
        "\n",
        "with open('data.yaml', 'w') as file:\n",
        "    yaml.dump(data, file)\n",
        "\n",
        "with open('data.yaml', 'r') as file:\n",
        "    data = yaml.load(file, Loader=yaml.FullLoader)\n",
        "\n",
        "assert (data['columns'] == list(df.columns)), \"Columns do not match!\"\n",
        "\n",
        "df.to_csv('data.gz', sep='|', compression='gzip', index=False)\n",
        "\n",
        "print(f'Total number of rows: {len(df)}')\n",
        "print(f'Total number of columns: {len(df.columns)}')\n",
        "print(f'File size: {os.path.getsize(\"data.gz\")} bytes')\n",
        "\n",
        "\n",
        "\n"
      ]
    }
  ]
}